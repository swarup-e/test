{
 "cells": [
  {
   "cell_type": "markdown",
   "id": "1544e696-2748-4092-9a08-dc547ce95fc4",
   "metadata": {},
   "source": [
    "## Token Generation\n",
    "In case if you would like to generate access token then you can use this approach to generate token. "
   ]
  },
  {
   "cell_type": "code",
   "execution_count": 2,
   "id": "e182ca40-220f-440a-be38-9c9bfb9c8c7e",
   "metadata": {},
   "outputs": [],
   "source": [
    "from iudx.auth.Token import Token\n",
    "\n",
    "token = Token(auth_url=\"https://authorization.iudx.org.in/auth/v1/token\", token_file='./credentials.json')\n",
    "\n",
    "token.set_item(\n",
    "    item_id=\"rs.iudx.org.in\",\n",
    "    item_type=\"resource_server\",\n",
    "    role=\"consumer\")\n",
    "\n",
    "access_token = token.request_token()"
   ]
  },
  {
   "cell_type": "markdown",
   "id": "268e36e8-cd2c-433b-b66d-2990fa92f10a",
   "metadata": {},
   "source": [
    "## Accessing Resource"
   ]
  },
  {
   "cell_type": "code",
   "execution_count": 3,
   "id": "5be15b8b-f0a2-4913-86d5-5b19e8e7a59f",
   "metadata": {},
   "outputs": [
    {
     "name": "stdout",
     "output_type": "stream",
     "text": [
      "RESULTS: [{'deviceStatus': 'ACTIVE', 'id': 'datakaveri.org/04a15c9960ffda227e9546f3f46e629e1fe4132b/rs.iudx.org.in/pune-env-aqm/83cdf03d-5787-7052-08aa-143cfbfb807d', 'airQualityIndex': '78', 'airQualityLevel': 'SATISFACTORY', 'aqiMajorPollutant': 'PM10', 'observationDateTime': '2021-12-06T15:56:44+05:30', 'illuminance': {'avgOverTime': 1532.26}, 'atmosphericPressure': {'avgOverTime': 0.94}, 'airTemperature': {'avgOverTime': 31.27}, 'co2': {'avgOverTime': 55.54}, 'relativeHumidity': {'avgOverTime': 46.46}, 'ambientNoise': {'avgOverTime': 57.66}, 'uv': {'avgOverTime': 0.38}, 'pm2p5': {'avgOverTime': 80.34}, 'pm10': {'avgOverTime': 160.21}, 'no2': {'avgOverTime': 28.41}, 'co': {'avgOverTime': 0.38}, 'so2': {'avgOverTime': 0.11}, 'o3': {'avgOverTime': 58.44}}]\n"
     ]
    }
   ],
   "source": [
    "from iudx.rs.ResourceServer import ResourceServer\n",
    "from iudx.rs.ResourceQuery import ResourceQuery\n",
    "\n",
    "# entity id for the pune env aqm sensor.\n",
    "entity_id = \"datakaveri.org/04a15c9960ffda227e9546f3f46e629e1fe4132b/rs.iudx.org.in/pune-env-aqm/83cdf03d-5787-7052-08aa-143cfbfb807d\"\n",
    "\n",
    "# creating an object of ResourceServer class using rs_url.\n",
    "rs = ResourceServer(\n",
    "         rs_url=\"https://rs.iudx.org.in/ngsi-ld/v1\",\n",
    "         headers={\"content-type\": \"application/json\"},\n",
    "         token_obj=token\n",
    "     )\n",
    "\n",
    "# creating a query for fetching latest data for the entity_id.\n",
    "rs_query = ResourceQuery()\n",
    "rs_entity = rs_query.add_entity(entity_id)\n",
    "\n",
    "# fetch results for a list of entities.\n",
    "results = rs.get_latest([rs_entity])\n",
    "\n",
    "# printing results\n",
    "print(f\"RESULTS: {results[0].results}\")\n"
   ]
  },
  {
   "cell_type": "code",
   "execution_count": null,
   "id": "b7362cc9-4675-48a7-93c2-1772b782b8a1",
   "metadata": {},
   "outputs": [],
   "source": []
  },
  {
   "cell_type": "code",
   "execution_count": null,
   "id": "ad5d464c-345e-4c15-9042-64518914ec4e",
   "metadata": {},
   "outputs": [],
   "source": []
  }
 ],
 "metadata": {
  "kernelspec": {
   "display_name": "Python 3",
   "language": "python",
   "name": "python3"
  },
  "language_info": {
   "codemirror_mode": {
    "name": "ipython",
    "version": 3
   },
   "file_extension": ".py",
   "mimetype": "text/x-python",
   "name": "python",
   "nbconvert_exporter": "python",
   "pygments_lexer": "ipython3",
   "version": "3.7.10"
  }
 },
 "nbformat": 4,
 "nbformat_minor": 5
}
